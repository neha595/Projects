{
 "cells": [
  {
   "cell_type": "code",
   "execution_count": null,
   "id": "7e066e74",
   "metadata": {},
   "outputs": [],
   "source": [
    "import numpy as np\n",
    "import pandas as pd\n",
    "import matplotlib.pyplot as plt\n",
    "import seaborn as sns"
   ]
  },
  {
   "cell_type": "code",
   "execution_count": null,
   "id": "4da131ff",
   "metadata": {},
   "outputs": [],
   "source": [
    "df=pd.read_csv(\"credit_score.csv\")"
   ]
  },
  {
   "cell_type": "code",
   "execution_count": null,
   "id": "c37fcc8e",
   "metadata": {},
   "outputs": [],
   "source": [
    "df.head()"
   ]
  },
  {
   "cell_type": "code",
   "execution_count": null,
   "id": "239e181d",
   "metadata": {},
   "outputs": [],
   "source": [
    "df=df.drop(columns=['ID','Customer_ID','Name','SSN','Credit_History_Age','Type_of_Loan'])\n",
    "df.head()"
   ]
  },
  {
   "cell_type": "code",
   "execution_count": null,
   "id": "d976be80",
   "metadata": {},
   "outputs": [],
   "source": [
    "df.shape"
   ]
  },
  {
   "cell_type": "code",
   "execution_count": null,
   "id": "e25e0656",
   "metadata": {},
   "outputs": [],
   "source": [
    "df.info()"
   ]
  },
  {
   "cell_type": "code",
   "execution_count": null,
   "id": "7f8feb39",
   "metadata": {},
   "outputs": [],
   "source": [
    "df.describe()"
   ]
  },
  {
   "cell_type": "code",
   "execution_count": null,
   "id": "d4a695b9",
   "metadata": {},
   "outputs": [],
   "source": [
    "df.isnull().sum()"
   ]
  },
  {
   "cell_type": "code",
   "execution_count": null,
   "id": "5271f971",
   "metadata": {},
   "outputs": [],
   "source": [
    "df['Age']=df['Age'].str.replace(\"_\",\"\")\n",
    "df['Age']=df['Age'].astype(int)"
   ]
  },
  {
   "cell_type": "code",
   "execution_count": null,
   "id": "6552ea8e",
   "metadata": {},
   "outputs": [],
   "source": [
    "df['Occupation']=df['Occupation'].replace(\"______\",np.nan)"
   ]
  },
  {
   "cell_type": "code",
   "execution_count": null,
   "id": "e1c73683",
   "metadata": {},
   "outputs": [],
   "source": [
    "df['Annual_Income']=df['Annual_Income'].str.replace(\"_\",\"\")\n",
    "df['Annual_Income']=df['Annual_Income'].astype(float)"
   ]
  },
  {
   "cell_type": "code",
   "execution_count": null,
   "id": "97ca19c2",
   "metadata": {},
   "outputs": [],
   "source": [
    "df['Num_of_Loan']=df['Num_of_Loan'].str.replace(\"_\",\"\")\n",
    "df['Num_of_Loan']=df['Num_of_Loan'].astype(int)"
   ]
  },
  {
   "cell_type": "code",
   "execution_count": null,
   "id": "51548b9b",
   "metadata": {},
   "outputs": [],
   "source": [
    "df['Num_of_Delayed_Payment']=df['Num_of_Delayed_Payment'].str.replace(\"_\",\"\")\n",
    "df['Num_of_Delayed_Payment']=df['Num_of_Delayed_Payment'].astype(float)"
   ]
  },
  {
   "cell_type": "code",
   "execution_count": null,
   "id": "1230434d",
   "metadata": {},
   "outputs": [],
   "source": [
    "df['Credit_Score']=df['Credit_Score'].replace(['Poor','Standard','Good'],[0,1,2])"
   ]
  },
  {
   "cell_type": "code",
   "execution_count": null,
   "id": "7a967c2b",
   "metadata": {},
   "outputs": [],
   "source": [
    "df['Monthly_Balance']=df['Monthly_Balance'].str.replace(\"_\",\"\")\n",
    "df['Monthly_Balance']=df['Monthly_Balance'].astype(float)"
   ]
  },
  {
   "cell_type": "code",
   "execution_count": null,
   "id": "17a054da",
   "metadata": {},
   "outputs": [],
   "source": [
    "df['Payment_Behaviour']=df['Payment_Behaviour'].replace('!@#%8','np.nan')"
   ]
  },
  {
   "cell_type": "code",
   "execution_count": null,
   "id": "a7aa4247",
   "metadata": {},
   "outputs": [],
   "source": [
    "df['Amount_invested_monthly']=df['Amount_invested_monthly'].str.replace(\"_\",\"\")\n",
    "df['Amount_invested_monthly']=df['Amount_invested_monthly'].astype(float)"
   ]
  },
  {
   "cell_type": "code",
   "execution_count": null,
   "id": "cd987d3c",
   "metadata": {},
   "outputs": [],
   "source": [
    "df['Payment_of_Min_Amount']=df['Payment_of_Min_Amount'].replace('NM','NO')"
   ]
  },
  {
   "cell_type": "code",
   "execution_count": null,
   "id": "e380ad7e",
   "metadata": {},
   "outputs": [],
   "source": [
    "df['Payment_of_Min_Amount']=df['Payment_of_Min_Amount'].replace(['YES','NO'],[1,0])"
   ]
  },
  {
   "cell_type": "code",
   "execution_count": null,
   "id": "881af8da",
   "metadata": {},
   "outputs": [],
   "source": [
    "df['Outstanding_Debt']=df['Outstanding_Debt'].str.replace(\"_\",\"\")\n",
    "df['Outstanding_Debt']=df['Outstanding_Debt'].astype(float)"
   ]
  },
  {
   "cell_type": "code",
   "execution_count": null,
   "id": "6b61a860",
   "metadata": {},
   "outputs": [],
   "source": [
    "df['Credit_Mix']=df['Credit_Mix'].replace(\"_\",np.nan)\n",
    "df['Credit_Mix']=df['Credit_Mix'].replace(['Standard','Good','Bad'],[1,2,0])"
   ]
  },
  {
   "cell_type": "code",
   "execution_count": null,
   "id": "2c34336b",
   "metadata": {},
   "outputs": [],
   "source": [
    "df['Changed_Credit_Limit']=df['Changed_Credit_Limit'].replace(\"_\",np.nan)\n",
    "df['Changed_Credit_Limit']=df['Changed_Credit_Limit'].astype(float)"
   ]
  },
  {
   "cell_type": "code",
   "execution_count": null,
   "id": "b2c4fd89",
   "metadata": {},
   "outputs": [],
   "source": [
    "df=df.fillna(method='ffill')"
   ]
  },
  {
   "cell_type": "code",
   "execution_count": null,
   "id": "8ca86c4a",
   "metadata": {},
   "outputs": [],
   "source": [
    "df=df.fillna(method='bfill')"
   ]
  },
  {
   "cell_type": "code",
   "execution_count": null,
   "id": "86571ec4",
   "metadata": {},
   "outputs": [],
   "source": [
    "df.isnull().sum()"
   ]
  },
  {
   "cell_type": "code",
   "execution_count": null,
   "id": "3c7a674a",
   "metadata": {},
   "outputs": [],
   "source": [
    "sns.boxplot(df['Age'])"
   ]
  },
  {
   "cell_type": "code",
   "execution_count": null,
   "id": "1e27f0e9",
   "metadata": {},
   "outputs": [],
   "source": [
    "col_names=['Age']\n",
    "q1=df.Age.quantile(0.25)\n",
    "q2=df.Age.quantile(0.75)\n",
    "iqr=q2-q1\n",
    "data=df[(df.Age>=q1-1.5 * iqr) & (df.Age<=q2+1.5*iqr)]\n",
    "sns.boxplot(data['Age'])"
   ]
  },
  {
   "cell_type": "code",
   "execution_count": null,
   "id": "8404c69b",
   "metadata": {
    "scrolled": true
   },
   "outputs": [],
   "source": [
    "from sklearn.preprocessing import LabelEncoder\n",
    "le=LabelEncoder()\n",
    "df['Month']=le.fit_transform(df['Month'])\n",
    "df['Occupation']=le.fit_transform(df['Occupation'])\n",
    "df['Payment_Behaviour']=le.fit_transform(df['Payment_Behaviour'])\n",
    "\n",
    "df.info()"
   ]
  },
  {
   "cell_type": "code",
   "execution_count": null,
   "id": "b20c6ce6",
   "metadata": {},
   "outputs": [],
   "source": [
    "from statsmodels.stats.outliers_influence import variance_inflation_factor\n",
    "col_list=[]\n",
    "for col in df.columns:\n",
    "    if ((df[col].dtype!='object') & (col!='Credit_Score')):\n",
    "        col_list.append(col)\n",
    "X=df[col_list]\n",
    "vif_data=pd.DataFrame()\n",
    "vif_data['feature']=X.columns\n",
    "vif_data['VIF']=[variance_inflation_factor(X.values,i)for i in range (len(X.columns))]\n",
    "vif_data"
   ]
  },
  {
   "cell_type": "code",
   "execution_count": null,
   "id": "e399dffa",
   "metadata": {},
   "outputs": [],
   "source": [
    "x=df.drop(columns=['Credit_Score'])\n",
    "y=df['Credit_Score']"
   ]
  },
  {
   "cell_type": "code",
   "execution_count": null,
   "id": "34f1ceaf",
   "metadata": {},
   "outputs": [],
   "source": [
    "from sklearn.model_selection import train_test_split"
   ]
  },
  {
   "cell_type": "code",
   "execution_count": null,
   "id": "f7a29e5b",
   "metadata": {},
   "outputs": [],
   "source": [
    "x_train,x_test,y_train,y_test=train_test_split(x,y,test_size=0.2,random_state=42)"
   ]
  },
  {
   "cell_type": "code",
   "execution_count": null,
   "id": "73d7e2a0",
   "metadata": {},
   "outputs": [],
   "source": [
    "from sklearn.linear_model import LogisticRegression\n",
    "lr=LogisticRegression()\n",
    "lr.fit(x_train,y_train)\n",
    "y_pred=lr.predict(x_test)\n",
    "y_pred"
   ]
  },
  {
   "cell_type": "code",
   "execution_count": null,
   "id": "05165013",
   "metadata": {},
   "outputs": [],
   "source": [
    "from sklearn.tree import DecisionTreeClassifier\n",
    "dt=DecisionTreeClassifier()\n",
    "dt.fit(x_train,y_train)\n",
    "y_pred=dt.predict(x_test)\n",
    "y_pred"
   ]
  },
  {
   "cell_type": "code",
   "execution_count": null,
   "id": "36fde7d2",
   "metadata": {},
   "outputs": [],
   "source": [
    "from sklearn.metrics import *\n",
    "confusion_matrix(y_test,y_pred)"
   ]
  },
  {
   "cell_type": "code",
   "execution_count": null,
   "id": "8dbcaebe",
   "metadata": {},
   "outputs": [],
   "source": [
    "accuracy_score(y_test,y_pred)"
   ]
  },
  {
   "cell_type": "code",
   "execution_count": null,
   "id": "ce995247",
   "metadata": {},
   "outputs": [],
   "source": [
    "from sklearn.model_selection import GridSearchCV\n",
    "parameters={'max_features':['log2','sqrt','auto'],'criterion':['entropy'],['gini'],'max_depth':[2,3,5,10,50],'min_samples_split':[2,3,50,100],'min_samples_leaf':[1,5,8,10]}"
   ]
  },
  {
   "cell_type": "code",
   "execution_count": null,
   "id": "5944f12b",
   "metadata": {},
   "outputs": [],
   "source": [
    "grid_obj=GridSearchCV(dt,parameters)\n",
    "grid_obj=grid_obj.fit(x_train,y_train)\n",
    "dt=grid_obj.best_estimator_\n",
    "dt.fit(x_train,y_train)\n",
    "y_pred=dt.predict(x_test)\n",
    "acc_dt=round(accuracy_score(y_test,y_pred) * 100,2)\n",
    "acc_dt"
   ]
  },
  {
   "cell_type": "code",
   "execution_count": null,
   "id": "0fe730d8",
   "metadata": {},
   "outputs": [],
   "source": [
    "from sklearn.ensemble import RandomForestClassifier\n",
    "rf=RandomForestClassifier()\n",
    "rf.fit(x_train,y_train)\n",
    "y_pred=rf.predict(x_test)\n",
    "y_pred"
   ]
  },
  {
   "cell_type": "code",
   "execution_count": null,
   "id": "56e27e40",
   "metadata": {},
   "outputs": [],
   "source": [
    "accuracy_score(y_test,y_pred)"
   ]
  }
 ],
 "metadata": {
  "kernelspec": {
   "display_name": "Python 3 (ipykernel)",
   "language": "python",
   "name": "python3"
  },
  "language_info": {
   "codemirror_mode": {
    "name": "ipython",
    "version": 3
   },
   "file_extension": ".py",
   "mimetype": "text/x-python",
   "name": "python",
   "nbconvert_exporter": "python",
   "pygments_lexer": "ipython3",
   "version": "3.9.13"
  }
 },
 "nbformat": 4,
 "nbformat_minor": 5
}
