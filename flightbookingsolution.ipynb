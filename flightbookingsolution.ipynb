{
 "cells": [
  {
   "cell_type": "code",
   "execution_count": null,
   "id": "36155d80",
   "metadata": {},
   "outputs": [],
   "source": [
    "import pandas as pd\n",
    "import numpy as np\n",
    "import matplotlib.pyplot as plt\n",
    "import seaborn as sns"
   ]
  },
  {
   "cell_type": "code",
   "execution_count": null,
   "id": "960397b4",
   "metadata": {},
   "outputs": [],
   "source": [
    "df=pd.read_csv(\"Flight_Booking.csv\")\n",
    "df"
   ]
  },
  {
   "cell_type": "code",
   "execution_count": null,
   "id": "82056d71",
   "metadata": {},
   "outputs": [],
   "source": [
    "df=df.drop (columns=['Unnamed: 0'])"
   ]
  },
  {
   "cell_type": "code",
   "execution_count": null,
   "id": "c6199b6d",
   "metadata": {
    "scrolled": true
   },
   "outputs": [],
   "source": [
    "df"
   ]
  },
  {
   "cell_type": "code",
   "execution_count": null,
   "id": "4667b9c0",
   "metadata": {},
   "outputs": [],
   "source": [
    "df['stops'].value_counts()"
   ]
  },
  {
   "cell_type": "code",
   "execution_count": null,
   "id": "e07468b4",
   "metadata": {},
   "outputs": [],
   "source": [
    "df.shape"
   ]
  },
  {
   "cell_type": "code",
   "execution_count": null,
   "id": "2109c8d4",
   "metadata": {},
   "outputs": [],
   "source": [
    "df.info()"
   ]
  },
  {
   "cell_type": "code",
   "execution_count": null,
   "id": "946f7d3e",
   "metadata": {},
   "outputs": [],
   "source": [
    "df.describe()"
   ]
  },
  {
   "cell_type": "code",
   "execution_count": null,
   "id": "6c17be0e",
   "metadata": {},
   "outputs": [],
   "source": [
    "df.isnull().sum()"
   ]
  },
  {
   "cell_type": "code",
   "execution_count": null,
   "id": "2cc0c17e",
   "metadata": {},
   "outputs": [],
   "source": [
    "plt.figure(figsize=(10,5))\n",
    "sns.lineplot(x=df['airline'],y=df['price'])\n",
    "plt.title(\"airline vs price\")\n",
    "plt.xlabel(\"airline\")\n",
    "plt.ylabel(\"price\")\n",
    "plt.show()"
   ]
  },
  {
   "cell_type": "code",
   "execution_count": null,
   "id": "9549cf42",
   "metadata": {},
   "outputs": [],
   "source": [
    "sns.lineplot(x=df['class'],y=df['price'])\n",
    "plt.title('class vs price')\n",
    "plt.xlabel(\"class\")\n",
    "plt.ylabel(\"price\")\n",
    "plt.show()"
   ]
  },
  {
   "cell_type": "code",
   "execution_count": null,
   "id": "cc105b11",
   "metadata": {},
   "outputs": [],
   "source": [
    "sns.barplot(x=df['airline'],y=df['price'],data=df)\n",
    "plt.title('class vs price')\n",
    "plt.xlabel(\"airline\")\n",
    "plt.ylabel(\"price\")\n",
    "plt.show()"
   ]
  },
  {
   "cell_type": "code",
   "execution_count": null,
   "id": "9d8cb2f7",
   "metadata": {},
   "outputs": [],
   "source": [
    "sns.lineplot(x=df['days_left'],y=df['price'])\n",
    "plt.title('class vs price')\n",
    "plt.xlabel(\"days_left\")\n",
    "plt.ylabel(\"price\")\n",
    "plt.show()"
   ]
  },
  {
   "cell_type": "code",
   "execution_count": null,
   "id": "4e184f48",
   "metadata": {},
   "outputs": [],
   "source": [
    "sns.barplot(x=df['class'],y=df['price'],data=df,hue='airline')\n",
    "plt.title(\"class vs price\")\n",
    "plt.xlabel(\"class\")\n",
    "plt.ylabel(\"price\")\n",
    "plt.show()"
   ]
  },
  {
   "cell_type": "code",
   "execution_count": null,
   "id": "b9339c8e",
   "metadata": {},
   "outputs": [],
   "source": [
    "plt.figure(figsize=(15,20))\n",
    "plt.subplot(4,2,1)\n",
    "sns.countplot(x=df['source_city'],data=df)\n",
    "plt.title(\"frequency of source city\")\n",
    "\n",
    "plt.subplot(4,2,2)\n",
    "sns.countplot(x=df['airline'],data=df)\n",
    "plt.title(\"frequency of airline\")\n",
    "\n",
    "plt.subplot(4,2,3)\n",
    "sns.countplot(x=df['destination_city'],data=df)\n",
    "plt.title(\"frequency of destination city\")\n",
    "\n",
    "\n",
    "plt.subplot(4,2,4)\n",
    "sns.countplot(x=df['departure_time'],data=df)\n",
    "plt.title(\"frequency of departure_time\")\n",
    "\n",
    "plt.subplot(4,2,5)\n",
    "sns.countplot(x=df['arrival_time'],data=df)\n",
    "plt.title(\"frequency of arrival_time\")\n",
    "\n",
    "plt.subplot(4,2,6)\n",
    "sns.countplot(x=df['stops'],data=df)\n",
    "plt.title(\"frequency of stops\")\n",
    "\n",
    "plt.subplot(4,2,7)\n",
    "sns.countplot(x=df['class'],data=df)\n",
    "plt.title(\"class\")\n",
    "\n",
    "plt.show()\n",
    "\n",
    "\n",
    "\n",
    "\n"
   ]
  },
  {
   "cell_type": "code",
   "execution_count": null,
   "id": "5f84435b",
   "metadata": {},
   "outputs": [],
   "source": [
    "from sklearn.preprocessing import LabelEncoder\n",
    "le=LabelEncoder()\n",
    "for i in df.columns:\n",
    "    df[i]=le.fit_transform(df[i])"
   ]
  },
  {
   "cell_type": "code",
   "execution_count": null,
   "id": "85bb142f",
   "metadata": {
    "scrolled": true
   },
   "outputs": [],
   "source": [
    "plt.figure(figsize=(20,15))\n",
    "sns.heatmap(df.corr(),annot=True,cmap='coolwarm')\n",
    "plt.show()"
   ]
  },
  {
   "cell_type": "code",
   "execution_count": null,
   "id": "14e28131",
   "metadata": {},
   "outputs": [],
   "source": [
    "from statsmodels.stats.outliers_influence import variance_inflation_factor\n",
    "col_list=[]\n",
    "for col in df.columns:\n",
    "    if ((df[col].dtype !='object') & (col != 'price')):\n",
    "        col_list.append(col)\n",
    "X=df[col_list]\n",
    "vif_data=pd.DataFrame()\n",
    "vif_data['features']=X.columns\n",
    "vif_data['vif']=[variance_inflation_factor(X.values,i)\n",
    "                for i in range (len(X.columns))]\n",
    "print(vif_data)"
   ]
  },
  {
   "cell_type": "code",
   "execution_count": null,
   "id": "6e82cb81",
   "metadata": {
    "scrolled": true
   },
   "outputs": [],
   "source": [
    "df=df.drop(['flight'],axis=1)"
   ]
  },
  {
   "cell_type": "code",
   "execution_count": null,
   "id": "3e2ecc7a",
   "metadata": {},
   "outputs": [],
   "source": [
    "from statsmodels.stats.outliers_influence import variance_inflation_factor\n",
    "col_list=[]\n",
    "for col in df.columns:\n",
    "    if ((df[col].dtype !='object') & (col != 'price')):\n",
    "        col_list.append(col)\n",
    "X=df[col_list]\n",
    "vif_data=pd.DataFrame()\n",
    "vif_data['features']=X.columns\n",
    "vif_data['vif']=[variance_inflation_factor(X.values,i)\n",
    "                for i in range (len(X.columns))]\n",
    "print(vif_data)"
   ]
  },
  {
   "cell_type": "code",
   "execution_count": null,
   "id": "7a83a35b",
   "metadata": {},
   "outputs": [],
   "source": [
    "from sklearn.model_selection import train_test_split\n",
    "X=df.drop(columns=['price']).values\n",
    "y=df['price'].values\n",
    "x_train,x_test,y_train,y_test=train_test_split(X,y,test_size=0.2,random_state=42)\n",
    "from sklearn.preprocessing import StandardScaler,OneHotEncoder\n",
    "scaler=StandardScaler()\n",
    "\n",
    "x_train=scaler.fit_transform(x_train)\n",
    "x_test=scaler.transform(x_test)\n",
    "from sklearn.linear_model import LinearRegression\n",
    "lr=LinearRegression()\n",
    "lr.fit(x_train,y_train)\n",
    "y_pred=lr.predict(x_test)\n"
   ]
  },
  {
   "cell_type": "code",
   "execution_count": null,
   "id": "b8f4493c",
   "metadata": {},
   "outputs": [],
   "source": [
    "\n",
    "from sklearn import metrics\n",
    "from sklearn.metrics import *\n",
    "r2_score(y_test,y_pred)"
   ]
  },
  {
   "cell_type": "code",
   "execution_count": null,
   "id": "a899a47e",
   "metadata": {},
   "outputs": [],
   "source": [
    "mean_absolute_error(y_test,y_pred)"
   ]
  },
  {
   "cell_type": "code",
   "execution_count": null,
   "id": "6d67ebc6",
   "metadata": {},
   "outputs": [],
   "source": [
    "mean_absolute_percentage_error(y_test,y_pred)"
   ]
  },
  {
   "cell_type": "code",
   "execution_count": null,
   "id": "d78e1914",
   "metadata": {},
   "outputs": [],
   "source": [
    "mean_squared_error(y_test,y_pred)"
   ]
  },
  {
   "cell_type": "code",
   "execution_count": null,
   "id": "674f0447",
   "metadata": {},
   "outputs": [],
   "source": [
    "np.sqrt(mean_squared_error(y_test,y_pred))"
   ]
  },
  {
   "cell_type": "code",
   "execution_count": null,
   "id": "c4ea9395",
   "metadata": {},
   "outputs": [],
   "source": [
    "accuracy_score(y_test,y_pred)"
   ]
  },
  {
   "cell_type": "code",
   "execution_count": null,
   "id": "a4b12fdd",
   "metadata": {},
   "outputs": [],
   "source": [
    "from sklearn.tree import DecisionTreeRegressor\n",
    "dt=DecisionTreeRegressor()\n",
    "dt.fit(x_train,y_train)\n",
    "y_pred=dt.predict(x_test)"
   ]
  },
  {
   "cell_type": "code",
   "execution_count": null,
   "id": "01537e6a",
   "metadata": {},
   "outputs": [],
   "source": [
    "a=mean_absolute_error(y_test,y_pred)\n",
    "b=mean_absolute_percentage_error(y_test,y_pred)\n",
    "c=mean_squared_error(y_test,y_pred)\n",
    "d=np.sqrt(mean_squared_error(y_test,y_pred))\n",
    "e=accuracy_score(y_test,y_pred)\n",
    "print(a,b,c,d,e)"
   ]
  },
  {
   "cell_type": "code",
   "execution_count": null,
   "id": "86d22704",
   "metadata": {},
   "outputs": [],
   "source": [
    "from sklearn.ensemble import RandomForestRegressor\n",
    "rf=RandomForestRegressor(n_estimators=1000)\n",
    "rf.fit(x_train,y_train)\n",
    "y_pred=rf.predict(x_test)"
   ]
  },
  {
   "cell_type": "code",
   "execution_count": null,
   "id": "9370b68e",
   "metadata": {},
   "outputs": [],
   "source": [
    "a=mean_absolute_error(y_test,y_pred)\n",
    "b=mean_absolute_percentage_error(y_test,y_pred)\n",
    "c=mean_squared_error(y_test,y_pred)\n",
    "d=np.sqrt(mean_squared_error(y_test,y_pred))\n",
    "e=accuracy_score(y_test,y_pred)\n",
    "print(a,b,c,d,e)"
   ]
  }
 ],
 "metadata": {
  "kernelspec": {
   "display_name": "Python 3 (ipykernel)",
   "language": "python",
   "name": "python3"
  },
  "language_info": {
   "codemirror_mode": {
    "name": "ipython",
    "version": 3
   },
   "file_extension": ".py",
   "mimetype": "text/x-python",
   "name": "python",
   "nbconvert_exporter": "python",
   "pygments_lexer": "ipython3",
   "version": "3.9.13"
  }
 },
 "nbformat": 4,
 "nbformat_minor": 5
}
